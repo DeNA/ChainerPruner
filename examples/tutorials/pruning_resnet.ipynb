{
 "cells": [
  {
   "cell_type": "markdown",
   "metadata": {},
   "source": [
    "# Pruning ResNet"
   ]
  },
  {
   "cell_type": "code",
   "execution_count": 1,
   "metadata": {},
   "outputs": [],
   "source": [
    "import logging\n",
    "logging.basicConfig(level=logging.INFO)\n",
    "\n",
    "import numpy as np\n",
    "import pandas as pd\n",
    "\n",
    "from chainer.serializers import save_npz\n",
    "from chainercv.links import ResNet50\n",
    "\n",
    "from chainerpruner import Pruner, Graph\n",
    "from chainerpruner.serializers import load_npz\n",
    "from chainerpruner.masks import NormMask\n",
    "from chainerpruner.utils import calc_computational_cost"
   ]
  },
  {
   "cell_type": "markdown",
   "metadata": {},
   "source": [
    "## model definition"
   ]
  },
  {
   "cell_type": "code",
   "execution_count": 2,
   "metadata": {},
   "outputs": [],
   "source": [
    "x = np.zeros((1, 3, 224, 224), dtype=np.float32)\n",
    "model = ResNet50(pretrained_model=None, n_class=1000, arch='he')"
   ]
  },
  {
   "cell_type": "code",
   "execution_count": 3,
   "metadata": {},
   "outputs": [],
   "source": [
    "show_name = False\n",
    "# show_name = True"
   ]
  },
  {
   "cell_type": "code",
   "execution_count": 4,
   "metadata": {},
   "outputs": [],
   "source": [
    "if show_name:\n",
    "    for name, _ in model.namedlinks(skipself=True):\n",
    "        print(name)"
   ]
  },
  {
   "cell_type": "code",
   "execution_count": 5,
   "metadata": {},
   "outputs": [],
   "source": [
    "cch = calc_computational_cost(model, x)\n",
    "# cch.show_report(unit='G', mode='table') # details\n",
    "df = pd.DataFrame([cch.total_report], index=['before pruning'])"
   ]
  },
  {
   "cell_type": "code",
   "execution_count": 6,
   "metadata": {},
   "outputs": [
    {
     "name": "stdout",
     "output_type": "stream",
     "text": [
      "219 ms ± 9.57 ms per loop (mean ± std. dev. of 7 runs, 5 loops each)\n"
     ]
    }
   ],
   "source": [
    "# benchmark\n",
    "result = %timeit -o -n 5 model(x)\n",
    "df['time str'] = str(result)\n",
    "df['time'] = result.average"
   ]
  },
  {
   "cell_type": "code",
   "execution_count": 7,
   "metadata": {},
   "outputs": [
    {
     "data": {
      "text/html": [
       "<div>\n",
       "<style scoped>\n",
       "    .dataframe tbody tr th:only-of-type {\n",
       "        vertical-align: middle;\n",
       "    }\n",
       "\n",
       "    .dataframe tbody tr th {\n",
       "        vertical-align: top;\n",
       "    }\n",
       "\n",
       "    .dataframe thead th {\n",
       "        text-align: right;\n",
       "    }\n",
       "</style>\n",
       "<table border=\"1\" class=\"dataframe\">\n",
       "  <thead>\n",
       "    <tr style=\"text-align: right;\">\n",
       "      <th></th>\n",
       "      <th>flops</th>\n",
       "      <th>mread</th>\n",
       "      <th>mrw</th>\n",
       "      <th>mwrite</th>\n",
       "      <th>n_layers</th>\n",
       "      <th>name</th>\n",
       "      <th>type</th>\n",
       "      <th>time str</th>\n",
       "      <th>time</th>\n",
       "    </tr>\n",
       "  </thead>\n",
       "  <tbody>\n",
       "    <tr>\n",
       "      <th>before pruning</th>\n",
       "      <td>3884871583</td>\n",
       "      <td>269242688</td>\n",
       "      <td>413171840</td>\n",
       "      <td>143929152</td>\n",
       "      <td>176</td>\n",
       "      <td>total</td>\n",
       "      <td>total</td>\n",
       "      <td>219 ms ± 9.57 ms per loop (mean ± std. dev. of...</td>\n",
       "      <td>0.219364</td>\n",
       "    </tr>\n",
       "  </tbody>\n",
       "</table>\n",
       "</div>"
      ],
      "text/plain": [
       "                     flops      mread        mrw     mwrite  n_layers   name  \\\n",
       "before pruning  3884871583  269242688  413171840  143929152       176  total   \n",
       "\n",
       "                 type                                           time str  \\\n",
       "before pruning  total  219 ms ± 9.57 ms per loop (mean ± std. dev. of...   \n",
       "\n",
       "                    time  \n",
       "before pruning  0.219364  "
      ]
     },
     "execution_count": 7,
     "metadata": {},
     "output_type": "execute_result"
    }
   ],
   "source": [
    "df"
   ]
  },
  {
   "cell_type": "code",
   "execution_count": 8,
   "metadata": {},
   "outputs": [],
   "source": [
    "# dump weight\n",
    "save_npz('/tmp/model.npz', model)"
   ]
  },
  {
   "cell_type": "markdown",
   "metadata": {},
   "source": [
    "## pruning"
   ]
  },
  {
   "cell_type": "code",
   "execution_count": 9,
   "metadata": {},
   "outputs": [],
   "source": [
    "percent = 0.8"
   ]
  },
  {
   "cell_type": "code",
   "execution_count": 10,
   "metadata": {},
   "outputs": [],
   "source": [
    "# pruning target link names\n",
    "target_layers = [\n",
    "    '/res2/a/conv2/conv',\n",
    "    '/res2/b1/conv2/conv',\n",
    "    '/res2/b2/conv2/conv',\n",
    "    '/res3/a/conv2/conv',\n",
    "    '/res3/b1/conv2/conv',\n",
    "    '/res3/b2/conv2/conv',\n",
    "    '/res3/b3/conv2/conv',\n",
    "    '/res4/a/conv2/conv',\n",
    "    '/res4/b1/conv2/conv',\n",
    "    '/res4/b2/conv2/conv',\n",
    "    '/res4/b3/conv2/conv',\n",
    "    '/res4/b4/conv2/conv',\n",
    "    '/res4/b5/conv2/conv',\n",
    "    '/res5/a/conv2/conv',\n",
    "    '/res5/b1/conv2/conv',\n",
    "    '/res5/b2/conv2/conv',\n",
    "]"
   ]
  },
  {
   "cell_type": "code",
   "execution_count": 11,
   "metadata": {},
   "outputs": [],
   "source": [
    "graph = Graph(model, x)\n",
    "mask = NormMask(model, graph, target_layers, percent=percent)\n",
    "pruner = Pruner(model, x, target_layers, mask)"
   ]
  },
  {
   "cell_type": "code",
   "execution_count": 12,
   "metadata": {},
   "outputs": [
    {
     "data": {
      "text/plain": [
       "[{'name': '/res2/a/conv2/conv', 'before': 64, 'after': 13},\n",
       " {'name': '/res2/b1/conv2/conv', 'before': 64, 'after': 13},\n",
       " {'name': '/res2/b2/conv2/conv', 'before': 64, 'after': 13},\n",
       " {'name': '/res3/a/conv2/conv', 'before': 128, 'after': 26},\n",
       " {'name': '/res3/b1/conv2/conv', 'before': 128, 'after': 26},\n",
       " {'name': '/res3/b2/conv2/conv', 'before': 128, 'after': 26},\n",
       " {'name': '/res3/b3/conv2/conv', 'before': 128, 'after': 26},\n",
       " {'name': '/res4/a/conv2/conv', 'before': 256, 'after': 52},\n",
       " {'name': '/res4/b1/conv2/conv', 'before': 256, 'after': 52},\n",
       " {'name': '/res4/b2/conv2/conv', 'before': 256, 'after': 52},\n",
       " {'name': '/res4/b3/conv2/conv', 'before': 256, 'after': 52},\n",
       " {'name': '/res4/b4/conv2/conv', 'before': 256, 'after': 52},\n",
       " {'name': '/res4/b5/conv2/conv', 'before': 256, 'after': 52},\n",
       " {'name': '/res5/a/conv2/conv', 'before': 512, 'after': 103},\n",
       " {'name': '/res5/b1/conv2/conv', 'before': 512, 'after': 103},\n",
       " {'name': '/res5/b2/conv2/conv', 'before': 512, 'after': 103}]"
      ]
     },
     "execution_count": 12,
     "metadata": {},
     "output_type": "execute_result"
    }
   ],
   "source": [
    "pruner.apply_mask()\n",
    "info = pruner.apply_rebuild()\n",
    "info # pruning results"
   ]
  },
  {
   "cell_type": "code",
   "execution_count": 13,
   "metadata": {},
   "outputs": [],
   "source": [
    "save_npz('/tmp/model_pruned.npz', model)"
   ]
  },
  {
   "cell_type": "code",
   "execution_count": 14,
   "metadata": {},
   "outputs": [],
   "source": [
    "cch = calc_computational_cost(model, x)\n",
    "# cch.show_report(unit='G', mode='table') # details\n",
    "df_ = pd.DataFrame([cch.total_report], index=['after pruning ({})'.format(percent)])"
   ]
  },
  {
   "cell_type": "code",
   "execution_count": 15,
   "metadata": {},
   "outputs": [
    {
     "name": "stdout",
     "output_type": "stream",
     "text": [
      "177 ms ± 7.27 ms per loop (mean ± std. dev. of 7 runs, 5 loops each)\n"
     ]
    },
    {
     "data": {
      "text/html": [
       "<div>\n",
       "<style scoped>\n",
       "    .dataframe tbody tr th:only-of-type {\n",
       "        vertical-align: middle;\n",
       "    }\n",
       "\n",
       "    .dataframe tbody tr th {\n",
       "        vertical-align: top;\n",
       "    }\n",
       "\n",
       "    .dataframe thead th {\n",
       "        text-align: right;\n",
       "    }\n",
       "</style>\n",
       "<table border=\"1\" class=\"dataframe\">\n",
       "  <thead>\n",
       "    <tr style=\"text-align: right;\">\n",
       "      <th></th>\n",
       "      <th>flops</th>\n",
       "      <th>mread</th>\n",
       "      <th>mrw</th>\n",
       "      <th>mwrite</th>\n",
       "      <th>n_layers</th>\n",
       "      <th>name</th>\n",
       "      <th>type</th>\n",
       "      <th>time str</th>\n",
       "      <th>time</th>\n",
       "    </tr>\n",
       "  </thead>\n",
       "  <tbody>\n",
       "    <tr>\n",
       "      <th>after pruning (0.8)</th>\n",
       "      <td>1752625705</td>\n",
       "      <td>203835740</td>\n",
       "      <td>334568408</td>\n",
       "      <td>130732668</td>\n",
       "      <td>176</td>\n",
       "      <td>total</td>\n",
       "      <td>total</td>\n",
       "      <td>177 ms ± 7.27 ms per loop (mean ± std. dev. of...</td>\n",
       "      <td>0.177442</td>\n",
       "    </tr>\n",
       "  </tbody>\n",
       "</table>\n",
       "</div>"
      ],
      "text/plain": [
       "                          flops      mread        mrw     mwrite  n_layers  \\\n",
       "after pruning (0.8)  1752625705  203835740  334568408  130732668       176   \n",
       "\n",
       "                      name   type  \\\n",
       "after pruning (0.8)  total  total   \n",
       "\n",
       "                                                              time str  \\\n",
       "after pruning (0.8)  177 ms ± 7.27 ms per loop (mean ± std. dev. of...   \n",
       "\n",
       "                         time  \n",
       "after pruning (0.8)  0.177442  "
      ]
     },
     "execution_count": 15,
     "metadata": {},
     "output_type": "execute_result"
    }
   ],
   "source": [
    "# benchmark\n",
    "result = %timeit -o -n 5 model(x)\n",
    "df_['time str'] = str(result)\n",
    "df_['time'] = result.average\n",
    "df_"
   ]
  },
  {
   "cell_type": "code",
   "execution_count": 16,
   "metadata": {},
   "outputs": [
    {
     "data": {
      "text/html": [
       "<div>\n",
       "<style scoped>\n",
       "    .dataframe tbody tr th:only-of-type {\n",
       "        vertical-align: middle;\n",
       "    }\n",
       "\n",
       "    .dataframe tbody tr th {\n",
       "        vertical-align: top;\n",
       "    }\n",
       "\n",
       "    .dataframe thead th {\n",
       "        text-align: right;\n",
       "    }\n",
       "</style>\n",
       "<table border=\"1\" class=\"dataframe\">\n",
       "  <thead>\n",
       "    <tr style=\"text-align: right;\">\n",
       "      <th></th>\n",
       "      <th>flops</th>\n",
       "      <th>time str</th>\n",
       "      <th>time ratio</th>\n",
       "      <th>n_layers</th>\n",
       "    </tr>\n",
       "  </thead>\n",
       "  <tbody>\n",
       "    <tr>\n",
       "      <th>before pruning</th>\n",
       "      <td>3884871583</td>\n",
       "      <td>219 ms ± 9.57 ms per loop (mean ± std. dev. of...</td>\n",
       "      <td>1.000000</td>\n",
       "      <td>176</td>\n",
       "    </tr>\n",
       "    <tr>\n",
       "      <th>after pruning (0.8)</th>\n",
       "      <td>1752625705</td>\n",
       "      <td>177 ms ± 7.27 ms per loop (mean ± std. dev. of...</td>\n",
       "      <td>0.808894</td>\n",
       "      <td>176</td>\n",
       "    </tr>\n",
       "  </tbody>\n",
       "</table>\n",
       "</div>"
      ],
      "text/plain": [
       "                          flops  \\\n",
       "before pruning       3884871583   \n",
       "after pruning (0.8)  1752625705   \n",
       "\n",
       "                                                              time str  \\\n",
       "before pruning       219 ms ± 9.57 ms per loop (mean ± std. dev. of...   \n",
       "after pruning (0.8)  177 ms ± 7.27 ms per loop (mean ± std. dev. of...   \n",
       "\n",
       "                     time ratio  n_layers  \n",
       "before pruning         1.000000       176  \n",
       "after pruning (0.8)    0.808894       176  "
      ]
     },
     "execution_count": 16,
     "metadata": {},
     "output_type": "execute_result"
    }
   ],
   "source": [
    "# merge results\n",
    "df = df.append(df_)\n",
    "df['time ratio'] = df['time'] / df.loc['before pruning']['time']\n",
    "df[['flops', 'time str', 'time ratio', 'n_layers']]"
   ]
  },
  {
   "cell_type": "markdown",
   "metadata": {},
   "source": [
    "## load weight"
   ]
  },
  {
   "cell_type": "code",
   "execution_count": 17,
   "metadata": {},
   "outputs": [
    {
     "name": "stdout",
     "output_type": "stream",
     "text": [
      "-rw-r--r-- 1 docker docker 91M Dec 15 10:32 /tmp/model.npz\n",
      "-rw-r--r-- 1 docker docker 45M Dec 15 10:32 /tmp/model_pruned.npz\n"
     ]
    }
   ],
   "source": [
    "!ls -lha /tmp/model*.npz"
   ]
  },
  {
   "cell_type": "code",
   "execution_count": 18,
   "metadata": {},
   "outputs": [],
   "source": [
    "model_new = ResNet50(pretrained_model=None, n_class=1000, arch='he')\n",
    "load_npz('/tmp/model.npz', model_new)\n",
    "model_new(x);"
   ]
  },
  {
   "cell_type": "code",
   "execution_count": 19,
   "metadata": {},
   "outputs": [
    {
     "name": "stderr",
     "output_type": "stream",
     "text": [
      "INFO:chainerpruner.serializers.npz:load res2/a/conv3/conv/W: (256, 64, 1, 1) to (256, 13, 1, 1)\n",
      "INFO:chainerpruner.serializers.npz:load res2/a/conv2/bn/gamma: (64,) to (13,)\n",
      "INFO:chainerpruner.serializers.npz:load res2/a/conv2/bn/beta: (64,) to (13,)\n",
      "INFO:chainerpruner.serializers.npz:load res2/a/conv2/bn/avg_mean: (64,) to (13,)\n",
      "INFO:chainerpruner.serializers.npz:load res2/a/conv2/bn/avg_var: (64,) to (13,)\n",
      "INFO:chainerpruner.serializers.npz:load res2/a/conv2/conv/W: (64, 64, 3, 3) to (13, 64, 3, 3)\n",
      "INFO:chainerpruner.serializers.npz:load res2/b1/conv3/conv/W: (256, 64, 1, 1) to (256, 13, 1, 1)\n",
      "INFO:chainerpruner.serializers.npz:load res2/b1/conv2/bn/gamma: (64,) to (13,)\n",
      "INFO:chainerpruner.serializers.npz:load res2/b1/conv2/bn/beta: (64,) to (13,)\n",
      "INFO:chainerpruner.serializers.npz:load res2/b1/conv2/bn/avg_mean: (64,) to (13,)\n",
      "INFO:chainerpruner.serializers.npz:load res2/b1/conv2/bn/avg_var: (64,) to (13,)\n",
      "INFO:chainerpruner.serializers.npz:load res2/b1/conv2/conv/W: (64, 64, 3, 3) to (13, 64, 3, 3)\n",
      "INFO:chainerpruner.serializers.npz:load res2/b2/conv3/conv/W: (256, 64, 1, 1) to (256, 13, 1, 1)\n",
      "INFO:chainerpruner.serializers.npz:load res2/b2/conv2/bn/gamma: (64,) to (13,)\n",
      "INFO:chainerpruner.serializers.npz:load res2/b2/conv2/bn/beta: (64,) to (13,)\n",
      "INFO:chainerpruner.serializers.npz:load res2/b2/conv2/bn/avg_mean: (64,) to (13,)\n",
      "INFO:chainerpruner.serializers.npz:load res2/b2/conv2/bn/avg_var: (64,) to (13,)\n",
      "INFO:chainerpruner.serializers.npz:load res2/b2/conv2/conv/W: (64, 64, 3, 3) to (13, 64, 3, 3)\n",
      "INFO:chainerpruner.serializers.npz:load res5/a/conv3/conv/W: (2048, 512, 1, 1) to (2048, 103, 1, 1)\n",
      "INFO:chainerpruner.serializers.npz:load res5/a/conv2/bn/gamma: (512,) to (103,)\n",
      "INFO:chainerpruner.serializers.npz:load res5/a/conv2/bn/beta: (512,) to (103,)\n",
      "INFO:chainerpruner.serializers.npz:load res5/a/conv2/bn/avg_mean: (512,) to (103,)\n",
      "INFO:chainerpruner.serializers.npz:load res5/a/conv2/bn/avg_var: (512,) to (103,)\n",
      "INFO:chainerpruner.serializers.npz:load res5/a/conv2/conv/W: (512, 512, 3, 3) to (103, 512, 3, 3)\n",
      "INFO:chainerpruner.serializers.npz:load res5/b1/conv3/conv/W: (2048, 512, 1, 1) to (2048, 103, 1, 1)\n",
      "INFO:chainerpruner.serializers.npz:load res5/b1/conv2/bn/gamma: (512,) to (103,)\n",
      "INFO:chainerpruner.serializers.npz:load res5/b1/conv2/bn/beta: (512,) to (103,)\n",
      "INFO:chainerpruner.serializers.npz:load res5/b1/conv2/bn/avg_mean: (512,) to (103,)\n",
      "INFO:chainerpruner.serializers.npz:load res5/b1/conv2/bn/avg_var: (512,) to (103,)\n",
      "INFO:chainerpruner.serializers.npz:load res5/b1/conv2/conv/W: (512, 512, 3, 3) to (103, 512, 3, 3)\n",
      "INFO:chainerpruner.serializers.npz:load res5/b2/conv3/conv/W: (2048, 512, 1, 1) to (2048, 103, 1, 1)\n",
      "INFO:chainerpruner.serializers.npz:load res5/b2/conv2/bn/gamma: (512,) to (103,)\n",
      "INFO:chainerpruner.serializers.npz:load res5/b2/conv2/bn/beta: (512,) to (103,)\n",
      "INFO:chainerpruner.serializers.npz:load res5/b2/conv2/bn/avg_mean: (512,) to (103,)\n",
      "INFO:chainerpruner.serializers.npz:load res5/b2/conv2/bn/avg_var: (512,) to (103,)\n",
      "INFO:chainerpruner.serializers.npz:load res5/b2/conv2/conv/W: (512, 512, 3, 3) to (103, 512, 3, 3)\n",
      "INFO:chainerpruner.serializers.npz:load res4/a/conv3/conv/W: (1024, 256, 1, 1) to (1024, 52, 1, 1)\n",
      "INFO:chainerpruner.serializers.npz:load res4/a/conv2/bn/gamma: (256,) to (52,)\n",
      "INFO:chainerpruner.serializers.npz:load res4/a/conv2/bn/beta: (256,) to (52,)\n",
      "INFO:chainerpruner.serializers.npz:load res4/a/conv2/bn/avg_mean: (256,) to (52,)\n",
      "INFO:chainerpruner.serializers.npz:load res4/a/conv2/bn/avg_var: (256,) to (52,)\n",
      "INFO:chainerpruner.serializers.npz:load res4/a/conv2/conv/W: (256, 256, 3, 3) to (52, 256, 3, 3)\n",
      "INFO:chainerpruner.serializers.npz:load res4/b2/conv3/conv/W: (1024, 256, 1, 1) to (1024, 52, 1, 1)\n",
      "INFO:chainerpruner.serializers.npz:load res4/b2/conv2/bn/gamma: (256,) to (52,)\n",
      "INFO:chainerpruner.serializers.npz:load res4/b2/conv2/bn/beta: (256,) to (52,)\n",
      "INFO:chainerpruner.serializers.npz:load res4/b2/conv2/bn/avg_mean: (256,) to (52,)\n",
      "INFO:chainerpruner.serializers.npz:load res4/b2/conv2/bn/avg_var: (256,) to (52,)\n",
      "INFO:chainerpruner.serializers.npz:load res4/b2/conv2/conv/W: (256, 256, 3, 3) to (52, 256, 3, 3)\n",
      "INFO:chainerpruner.serializers.npz:load res4/b3/conv3/conv/W: (1024, 256, 1, 1) to (1024, 52, 1, 1)\n",
      "INFO:chainerpruner.serializers.npz:load res4/b3/conv2/bn/gamma: (256,) to (52,)\n",
      "INFO:chainerpruner.serializers.npz:load res4/b3/conv2/bn/beta: (256,) to (52,)\n",
      "INFO:chainerpruner.serializers.npz:load res4/b3/conv2/bn/avg_mean: (256,) to (52,)\n",
      "INFO:chainerpruner.serializers.npz:load res4/b3/conv2/bn/avg_var: (256,) to (52,)\n",
      "INFO:chainerpruner.serializers.npz:load res4/b3/conv2/conv/W: (256, 256, 3, 3) to (52, 256, 3, 3)\n",
      "INFO:chainerpruner.serializers.npz:load res4/b5/conv3/conv/W: (1024, 256, 1, 1) to (1024, 52, 1, 1)\n",
      "INFO:chainerpruner.serializers.npz:load res4/b5/conv2/bn/gamma: (256,) to (52,)\n",
      "INFO:chainerpruner.serializers.npz:load res4/b5/conv2/bn/beta: (256,) to (52,)\n",
      "INFO:chainerpruner.serializers.npz:load res4/b5/conv2/bn/avg_mean: (256,) to (52,)\n",
      "INFO:chainerpruner.serializers.npz:load res4/b5/conv2/bn/avg_var: (256,) to (52,)\n",
      "INFO:chainerpruner.serializers.npz:load res4/b5/conv2/conv/W: (256, 256, 3, 3) to (52, 256, 3, 3)\n",
      "INFO:chainerpruner.serializers.npz:load res4/b1/conv3/conv/W: (1024, 256, 1, 1) to (1024, 52, 1, 1)\n",
      "INFO:chainerpruner.serializers.npz:load res4/b1/conv2/bn/gamma: (256,) to (52,)\n",
      "INFO:chainerpruner.serializers.npz:load res4/b1/conv2/bn/beta: (256,) to (52,)\n",
      "INFO:chainerpruner.serializers.npz:load res4/b1/conv2/bn/avg_mean: (256,) to (52,)\n",
      "INFO:chainerpruner.serializers.npz:load res4/b1/conv2/bn/avg_var: (256,) to (52,)\n",
      "INFO:chainerpruner.serializers.npz:load res4/b1/conv2/conv/W: (256, 256, 3, 3) to (52, 256, 3, 3)\n",
      "INFO:chainerpruner.serializers.npz:load res4/b4/conv3/conv/W: (1024, 256, 1, 1) to (1024, 52, 1, 1)\n",
      "INFO:chainerpruner.serializers.npz:load res4/b4/conv2/bn/gamma: (256,) to (52,)\n",
      "INFO:chainerpruner.serializers.npz:load res4/b4/conv2/bn/beta: (256,) to (52,)\n",
      "INFO:chainerpruner.serializers.npz:load res4/b4/conv2/bn/avg_mean: (256,) to (52,)\n",
      "INFO:chainerpruner.serializers.npz:load res4/b4/conv2/bn/avg_var: (256,) to (52,)\n",
      "INFO:chainerpruner.serializers.npz:load res4/b4/conv2/conv/W: (256, 256, 3, 3) to (52, 256, 3, 3)\n",
      "INFO:chainerpruner.serializers.npz:load res3/b3/conv3/conv/W: (512, 128, 1, 1) to (512, 26, 1, 1)\n",
      "INFO:chainerpruner.serializers.npz:load res3/b3/conv2/bn/gamma: (128,) to (26,)\n",
      "INFO:chainerpruner.serializers.npz:load res3/b3/conv2/bn/beta: (128,) to (26,)\n",
      "INFO:chainerpruner.serializers.npz:load res3/b3/conv2/bn/avg_mean: (128,) to (26,)\n",
      "INFO:chainerpruner.serializers.npz:load res3/b3/conv2/bn/avg_var: (128,) to (26,)\n",
      "INFO:chainerpruner.serializers.npz:load res3/b3/conv2/conv/W: (128, 128, 3, 3) to (26, 128, 3, 3)\n",
      "INFO:chainerpruner.serializers.npz:load res3/a/conv3/conv/W: (512, 128, 1, 1) to (512, 26, 1, 1)\n",
      "INFO:chainerpruner.serializers.npz:load res3/a/conv2/bn/gamma: (128,) to (26,)\n",
      "INFO:chainerpruner.serializers.npz:load res3/a/conv2/bn/beta: (128,) to (26,)\n",
      "INFO:chainerpruner.serializers.npz:load res3/a/conv2/bn/avg_mean: (128,) to (26,)\n",
      "INFO:chainerpruner.serializers.npz:load res3/a/conv2/bn/avg_var: (128,) to (26,)\n",
      "INFO:chainerpruner.serializers.npz:load res3/a/conv2/conv/W: (128, 128, 3, 3) to (26, 128, 3, 3)\n",
      "INFO:chainerpruner.serializers.npz:load res3/b1/conv3/conv/W: (512, 128, 1, 1) to (512, 26, 1, 1)\n",
      "INFO:chainerpruner.serializers.npz:load res3/b1/conv2/bn/gamma: (128,) to (26,)\n",
      "INFO:chainerpruner.serializers.npz:load res3/b1/conv2/bn/beta: (128,) to (26,)\n",
      "INFO:chainerpruner.serializers.npz:load res3/b1/conv2/bn/avg_mean: (128,) to (26,)\n",
      "INFO:chainerpruner.serializers.npz:load res3/b1/conv2/bn/avg_var: (128,) to (26,)\n",
      "INFO:chainerpruner.serializers.npz:load res3/b1/conv2/conv/W: (128, 128, 3, 3) to (26, 128, 3, 3)\n",
      "INFO:chainerpruner.serializers.npz:load res3/b2/conv3/conv/W: (512, 128, 1, 1) to (512, 26, 1, 1)\n",
      "INFO:chainerpruner.serializers.npz:load res3/b2/conv2/bn/gamma: (128,) to (26,)\n",
      "INFO:chainerpruner.serializers.npz:load res3/b2/conv2/bn/beta: (128,) to (26,)\n",
      "INFO:chainerpruner.serializers.npz:load res3/b2/conv2/bn/avg_mean: (128,) to (26,)\n",
      "INFO:chainerpruner.serializers.npz:load res3/b2/conv2/bn/avg_var: (128,) to (26,)\n",
      "INFO:chainerpruner.serializers.npz:load res3/b2/conv2/conv/W: (128, 128, 3, 3) to (26, 128, 3, 3)\n"
     ]
    }
   ],
   "source": [
    "model_new = ResNet50(pretrained_model=None, n_class=1000, arch='he')\n",
    "load_npz('/tmp/model_pruned.npz', model_new)\n",
    "model_new(x);"
   ]
  },
  {
   "cell_type": "code",
   "execution_count": null,
   "metadata": {},
   "outputs": [],
   "source": []
  }
 ],
 "metadata": {
  "kernelspec": {
   "display_name": "Python 3",
   "language": "python",
   "name": "python3"
  },
  "language_info": {
   "codemirror_mode": {
    "name": "ipython",
    "version": 3
   },
   "file_extension": ".py",
   "mimetype": "text/x-python",
   "name": "python",
   "nbconvert_exporter": "python",
   "pygments_lexer": "ipython3",
   "version": "3.6.0"
  }
 },
 "nbformat": 4,
 "nbformat_minor": 2
}
